{
 "cells": [
  {
   "cell_type": "markdown",
   "metadata": {},
   "source": [
    "图片灰度化\n",
    "\n",
    "在图片灰度化之前这张图片的数组值应该是一个三维的，灰度化之后将变为二维数组。数组行列数就是图片的像素宽度和高度。"
   ]
  },
  {
   "cell_type": "code",
   "execution_count": 3,
   "metadata": {},
   "outputs": [
    {
     "name": "stdout",
     "output_type": "stream",
     "text": [
      "[[242   0   0 ...,   0   0   0]\n",
      " [242   0   0 ...,   0   0   0]\n",
      " [242   0   0 ...,   0   0   0]\n",
      " ..., \n",
      " [242   1   1 ...,   0   0   0]\n",
      " [242   1   1 ...,   0   0   0]\n",
      " [242   1   1 ...,   0   0   0]]\n"
     ]
    }
   ],
   "source": [
    "from PIL import Image \n",
    "import numpy as np\n",
    "\n",
    "#打开一张图片\n",
    "img = Image.open(\"1.png\")\n",
    "#图片灰度化\n",
    "img = img.convert(\"L\")\n",
    "#显示图片\n",
    "img.show()\n",
    "\n",
    "print np.asarray(img)"
   ]
  },
  {
   "cell_type": "markdown",
   "metadata": {},
   "source": [
    "图片的二值化"
   ]
  },
  {
   "cell_type": "code",
   "execution_count": 34,
   "metadata": {},
   "outputs": [
    {
     "name": "stdout",
     "output_type": "stream",
     "text": [
      "(32, 32)\n",
      "[[0 0 0 ..., 0 0 0]\n",
      " [0 0 0 ..., 0 0 0]\n",
      " [0 0 0 ..., 0 0 0]\n",
      " ..., \n",
      " [1 1 1 ..., 0 0 0]\n",
      " [0 0 0 ..., 0 0 0]\n",
      " [1 1 1 ..., 0 0 0]]\n"
     ]
    }
   ],
   "source": [
    "img = Image.open(\"1.png\")\n",
    "\n",
    "#img.show()\n",
    "img = img.convert(\"L\")\n",
    "img = img.resize((32,32))\n",
    "\n",
    "img_array = np.asarray(img)\n",
    "print img_array.shape\n",
    "\n",
    "print img_array\n",
    "#print np.asarray(img_array)"
   ]
  },
  {
   "cell_type": "code",
   "execution_count": 32,
   "metadata": {
    "collapsed": true
   },
   "outputs": [],
   "source": [
    "#将二值化后的数组转化成网格特征统计图\n",
    "def get_features(array):\n",
    "    #拿到数组的高度和宽度\n",
    "    h, w = array.shape\n",
    "    data = []\n",
    "    for x in range(0, w/4):\n",
    "        offset_y = x * 4\n",
    "        temp = []\n",
    "        for y in range(0,h/4):\n",
    "            offset_x = y * 4\n",
    "            #统计每个区域的1的值\n",
    "            temp.append(sum(sum(array[0+offset_y:4+offset_y,0+offset_x:4+offset_x])))\n",
    "        data.append(temp)\n",
    "    return np.asarray(data)\n"
   ]
  },
  {
   "cell_type": "code",
   "execution_count": 36,
   "metadata": {
    "collapsed": true
   },
   "outputs": [],
   "source": [
    "features_array = get_features(img_array)"
   ]
  },
  {
   "cell_type": "code",
   "execution_count": 37,
   "metadata": {
    "scrolled": true
   },
   "outputs": [
    {
     "name": "stdout",
     "output_type": "stream",
     "text": [
      "[  0   0   8  12   5  12   6   0   0   0  84 591 981 892 157   0   0   0\n",
      "  37 414 518 699 231   0   0   0  36 707 546 631  84   0   3  10 313 229\n",
      " 266 625   7   0   9 256 188  28 422 496  11   0   8 371 406 526 440 284\n",
      "  10   0   7  26 699 308   6   0   0   0]\n"
     ]
    }
   ],
   "source": [
    "features_vector =features_array.reshape(features_array.shape[0]*features_array.shape[1])\n",
    "print features_vector"
   ]
  },
  {
   "cell_type": "code",
   "execution_count": 40,
   "metadata": {},
   "outputs": [
    {
     "name": "stdout",
     "output_type": "stream",
     "text": [
      "[[0 0 0 ..., 0 0 0]\n",
      " [0 0 0 ..., 0 0 0]\n",
      " [0 0 0 ..., 0 0 0]\n",
      " ..., \n",
      " [0 0 0 ..., 0 0 0]\n",
      " [0 0 0 ..., 0 0 0]\n",
      " [0 0 0 ..., 0 0 0]]\n",
      "[[ 0  0  0  0  0  0  0  0]\n",
      " [ 0  0  0  8 12 12  4  0]\n",
      " [ 0  0  1  8  8 14  8  0]\n",
      " [ 0  0  0  4  6 14  0  0]\n",
      " [ 0  0  2  9  9  8  0  0]\n",
      " [ 0  1  2  0  3  8  0  0]\n",
      " [ 0  5 14 13 10  1  0  0]\n",
      " [ 0  0  2  1  0  0  0  0]]\n",
      "[ 0  0  0  0  0  0  0  0  0  0  0  8 12 12  4  0  0  0  1  8  8 14  8  0  0\n",
      "  0  0  4  6 14  0  0  0  0  2  9  9  8  0  0  0  1  2  0  3  8  0  0  0  5\n",
      " 14 13 10  1  0  0  0  0  2  1  0  0  0  0]\n"
     ]
    }
   ],
   "source": [
    "from PIL import Image\n",
    "import numpy as np\n",
    "\n",
    "\n",
    "#将二值化后的数组转化成网格特征统计图\n",
    "def get_features(array):\n",
    "    #拿到数组的高度和宽度\n",
    "    h, w = array.shape\n",
    "    data = []\n",
    "    for x in range(0, w/4):\n",
    "        offset_y = x * 4\n",
    "        temp = []\n",
    "        for y in range(0,h/4):\n",
    "            offset_x = y * 4\n",
    "            #统计每个区域的1的值\n",
    "            temp.append(sum(sum(array[0+offset_y:4+offset_y,0+offset_x:4+offset_x])))\n",
    "        data.append(temp)\n",
    "    return np.asarray(data)\n",
    "    \n",
    "  \n",
    "#打开一张图片\n",
    "img = Image.open(\"1.png\")\n",
    "#将图片化为32*32的\n",
    "img = img.convert(\"L\")  \n",
    "img = img.resize((32, 32))\n",
    "\n",
    "#二值化\n",
    "img = img.point(lambda x:1 if x > 120 else 0)\n",
    "#将图片转换为数组形式，元素为其像素的亮度值\n",
    "img_array = np.asarray(img)\n",
    "print img_array\n",
    "#得到网格特征统计图\n",
    "features_array = get_features(img_array)\n",
    "print features_array\n",
    "features_vector =features_array.reshape(features_array.shape[0]*features_array.shape[1])\n",
    "print features_vector"
   ]
  },
  {
   "cell_type": "code",
   "execution_count": null,
   "metadata": {
    "collapsed": true
   },
   "outputs": [],
   "source": []
  }
 ],
 "metadata": {
  "kernelspec": {
   "display_name": "Python 2",
   "language": "python",
   "name": "python2"
  },
  "language_info": {
   "codemirror_mode": {
    "name": "ipython",
    "version": 2
   },
   "file_extension": ".py",
   "mimetype": "text/x-python",
   "name": "python",
   "nbconvert_exporter": "python",
   "pygments_lexer": "ipython2",
   "version": "2.7.14"
  }
 },
 "nbformat": 4,
 "nbformat_minor": 2
}
