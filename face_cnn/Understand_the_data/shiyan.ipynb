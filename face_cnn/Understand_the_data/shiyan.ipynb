{
 "cells": [
  {
   "cell_type": "code",
   "execution_count": 1,
   "metadata": {},
   "outputs": [],
   "source": [
    "import scipy.io as sio  \n",
    "import matplotlib.pyplot as plt  \n",
    "import numpy as np  \n",
    "from PIL import Image"
   ]
  },
  {
   "cell_type": "code",
   "execution_count": 2,
   "metadata": {},
   "outputs": [],
   "source": [
    "data=sio.loadmat('AR_buzhedang.mat')"
   ]
  },
  {
   "cell_type": "code",
   "execution_count": 3,
   "metadata": {},
   "outputs": [
    {
     "data": {
      "text/plain": [
       "{'O_Tr_DAT': array([[ 32, 180,  33, ...,  37,  51,  47],\n",
       "        [ 31,  34,  30, ...,  38,  44,  48],\n",
       "        [ 33,  34,  32, ...,  37,  41,  47],\n",
       "        ..., \n",
       "        [255, 253, 254, ...,  36,  29,  50],\n",
       "        [255, 253, 254, ...,  38,  30,  58],\n",
       "        [255, 252, 253, ...,  38,  29,  66]], dtype=uint8),\n",
       " 'O_Tt_DAT': array([[ 41,  79,  28, ...,  31,  46,  44],\n",
       "        [ 28,  37,  29, ...,  31,  40,  41],\n",
       "        [ 28,  29,  33, ...,  33,  37,  43],\n",
       "        ..., \n",
       "        [255, 255, 255, ...,  26,  19,  25],\n",
       "        [254, 254, 254, ...,  25,  19,  25],\n",
       "        [254, 254, 254, ...,  22,  21,  27]], dtype=uint8),\n",
       " '__globals__': [],\n",
       " '__header__': 'MATLAB 5.0 MAT-file, Platform: PCWIN64, Created on: Sun Jan 28 18:48:17 2018',\n",
       " '__version__': '1.0',\n",
       " 'trls': array([[  1,   1,   1,   1,   1,   1,   1,   2,   2,   2,   2,   2,   2,\n",
       "           2,   3,   3,   3,   3,   3,   3,   3,   4,   4,   4,   4,   4,\n",
       "           4,   4,   5,   5,   5,   5,   5,   5,   5,   6,   6,   6,   6,\n",
       "           6,   6,   6,   7,   7,   7,   7,   7,   7,   7,   8,   8,   8,\n",
       "           8,   8,   8,   8,   9,   9,   9,   9,   9,   9,   9,  10,  10,\n",
       "          10,  10,  10,  10,  10,  11,  11,  11,  11,  11,  11,  11,  12,\n",
       "          12,  12,  12,  12,  12,  12,  13,  13,  13,  13,  13,  13,  13,\n",
       "          14,  14,  14,  14,  14,  14,  14,  15,  15,  15,  15,  15,  15,\n",
       "          15,  16,  16,  16,  16,  16,  16,  16,  17,  17,  17,  17,  17,\n",
       "          17,  17,  18,  18,  18,  18,  18,  18,  18,  19,  19,  19,  19,\n",
       "          19,  19,  19,  20,  20,  20,  20,  20,  20,  20,  21,  21,  21,\n",
       "          21,  21,  21,  21,  22,  22,  22,  22,  22,  22,  22,  23,  23,\n",
       "          23,  23,  23,  23,  23,  24,  24,  24,  24,  24,  24,  24,  25,\n",
       "          25,  25,  25,  25,  25,  25,  26,  26,  26,  26,  26,  26,  26,\n",
       "          27,  27,  27,  27,  27,  27,  27,  28,  28,  28,  28,  28,  28,\n",
       "          28,  29,  29,  29,  29,  29,  29,  29,  30,  30,  30,  30,  30,\n",
       "          30,  30,  31,  31,  31,  31,  31,  31,  31,  32,  32,  32,  32,\n",
       "          32,  32,  32,  33,  33,  33,  33,  33,  33,  33,  34,  34,  34,\n",
       "          34,  34,  34,  34,  35,  35,  35,  35,  35,  35,  35,  36,  36,\n",
       "          36,  36,  36,  36,  36,  37,  37,  37,  37,  37,  37,  37,  38,\n",
       "          38,  38,  38,  38,  38,  38,  39,  39,  39,  39,  39,  39,  39,\n",
       "          40,  40,  40,  40,  40,  40,  40,  41,  41,  41,  41,  41,  41,\n",
       "          41,  42,  42,  42,  42,  42,  42,  42,  43,  43,  43,  43,  43,\n",
       "          43,  43,  44,  44,  44,  44,  44,  44,  44,  45,  45,  45,  45,\n",
       "          45,  45,  45,  46,  46,  46,  46,  46,  46,  46,  47,  47,  47,\n",
       "          47,  47,  47,  47,  48,  48,  48,  48,  48,  48,  48,  49,  49,\n",
       "          49,  49,  49,  49,  49,  50,  50,  50,  50,  50,  50,  50,  51,\n",
       "          51,  51,  51,  51,  51,  51,  52,  52,  52,  52,  52,  52,  52,\n",
       "          53,  53,  53,  53,  53,  53,  53,  54,  54,  54,  54,  54,  54,\n",
       "          54,  55,  55,  55,  55,  55,  55,  55,  56,  56,  56,  56,  56,\n",
       "          56,  56,  57,  57,  57,  57,  57,  57,  57,  58,  58,  58,  58,\n",
       "          58,  58,  58,  59,  59,  59,  59,  59,  59,  59,  60,  60,  60,\n",
       "          60,  60,  60,  60,  61,  61,  61,  61,  61,  61,  61,  62,  62,\n",
       "          62,  62,  62,  62,  62,  63,  63,  63,  63,  63,  63,  63,  64,\n",
       "          64,  64,  64,  64,  64,  64,  65,  65,  65,  65,  65,  65,  65,\n",
       "          66,  66,  66,  66,  66,  66,  66,  67,  67,  67,  67,  67,  67,\n",
       "          67,  68,  68,  68,  68,  68,  68,  68,  69,  69,  69,  69,  69,\n",
       "          69,  69,  70,  70,  70,  70,  70,  70,  70,  71,  71,  71,  71,\n",
       "          71,  71,  71,  72,  72,  72,  72,  72,  72,  72,  73,  73,  73,\n",
       "          73,  73,  73,  73,  74,  74,  74,  74,  74,  74,  74,  75,  75,\n",
       "          75,  75,  75,  75,  75,  76,  76,  76,  76,  76,  76,  76,  77,\n",
       "          77,  77,  77,  77,  77,  77,  78,  78,  78,  78,  78,  78,  78,\n",
       "          79,  79,  79,  79,  79,  79,  79,  80,  80,  80,  80,  80,  80,\n",
       "          80,  81,  81,  81,  81,  81,  81,  81,  82,  82,  82,  82,  82,\n",
       "          82,  82,  83,  83,  83,  83,  83,  83,  83,  84,  84,  84,  84,\n",
       "          84,  84,  84,  85,  85,  85,  85,  85,  85,  85,  86,  86,  86,\n",
       "          86,  86,  86,  86,  87,  87,  87,  87,  87,  87,  87,  88,  88,\n",
       "          88,  88,  88,  88,  88,  89,  89,  89,  89,  89,  89,  89,  90,\n",
       "          90,  90,  90,  90,  90,  90,  91,  91,  91,  91,  91,  91,  91,\n",
       "          92,  92,  92,  92,  92,  92,  92,  93,  93,  93,  93,  93,  93,\n",
       "          93,  94,  94,  94,  94,  94,  94,  94,  95,  95,  95,  95,  95,\n",
       "          95,  95,  96,  96,  96,  96,  96,  96,  96,  97,  97,  97,  97,\n",
       "          97,  97,  97,  98,  98,  98,  98,  98,  98,  98,  99,  99,  99,\n",
       "          99,  99,  99,  99, 100, 100, 100, 100, 100, 100, 100]], dtype=uint8),\n",
       " 'ttls': array([[  1,   1,   1,   1,   1,   1,   1,   2,   2,   2,   2,   2,   2,\n",
       "           2,   3,   3,   3,   3,   3,   3,   3,   4,   4,   4,   4,   4,\n",
       "           4,   4,   5,   5,   5,   5,   5,   5,   5,   6,   6,   6,   6,\n",
       "           6,   6,   6,   7,   7,   7,   7,   7,   7,   7,   8,   8,   8,\n",
       "           8,   8,   8,   8,   9,   9,   9,   9,   9,   9,   9,  10,  10,\n",
       "          10,  10,  10,  10,  10,  11,  11,  11,  11,  11,  11,  11,  12,\n",
       "          12,  12,  12,  12,  12,  12,  13,  13,  13,  13,  13,  13,  13,\n",
       "          14,  14,  14,  14,  14,  14,  14,  15,  15,  15,  15,  15,  15,\n",
       "          15,  16,  16,  16,  16,  16,  16,  16,  17,  17,  17,  17,  17,\n",
       "          17,  17,  18,  18,  18,  18,  18,  18,  18,  19,  19,  19,  19,\n",
       "          19,  19,  19,  20,  20,  20,  20,  20,  20,  20,  21,  21,  21,\n",
       "          21,  21,  21,  21,  22,  22,  22,  22,  22,  22,  22,  23,  23,\n",
       "          23,  23,  23,  23,  23,  24,  24,  24,  24,  24,  24,  24,  25,\n",
       "          25,  25,  25,  25,  25,  25,  26,  26,  26,  26,  26,  26,  26,\n",
       "          27,  27,  27,  27,  27,  27,  27,  28,  28,  28,  28,  28,  28,\n",
       "          28,  29,  29,  29,  29,  29,  29,  29,  30,  30,  30,  30,  30,\n",
       "          30,  30,  31,  31,  31,  31,  31,  31,  31,  32,  32,  32,  32,\n",
       "          32,  32,  32,  33,  33,  33,  33,  33,  33,  33,  34,  34,  34,\n",
       "          34,  34,  34,  34,  35,  35,  35,  35,  35,  35,  35,  36,  36,\n",
       "          36,  36,  36,  36,  36,  37,  37,  37,  37,  37,  37,  37,  38,\n",
       "          38,  38,  38,  38,  38,  38,  39,  39,  39,  39,  39,  39,  39,\n",
       "          40,  40,  40,  40,  40,  40,  40,  41,  41,  41,  41,  41,  41,\n",
       "          41,  42,  42,  42,  42,  42,  42,  42,  43,  43,  43,  43,  43,\n",
       "          43,  43,  44,  44,  44,  44,  44,  44,  44,  45,  45,  45,  45,\n",
       "          45,  45,  45,  46,  46,  46,  46,  46,  46,  46,  47,  47,  47,\n",
       "          47,  47,  47,  47,  48,  48,  48,  48,  48,  48,  48,  49,  49,\n",
       "          49,  49,  49,  49,  49,  50,  50,  50,  50,  50,  50,  50,  51,\n",
       "          51,  51,  51,  51,  51,  51,  52,  52,  52,  52,  52,  52,  52,\n",
       "          53,  53,  53,  53,  53,  53,  53,  54,  54,  54,  54,  54,  54,\n",
       "          54,  55,  55,  55,  55,  55,  55,  55,  56,  56,  56,  56,  56,\n",
       "          56,  56,  57,  57,  57,  57,  57,  57,  57,  58,  58,  58,  58,\n",
       "          58,  58,  58,  59,  59,  59,  59,  59,  59,  59,  60,  60,  60,\n",
       "          60,  60,  60,  60,  61,  61,  61,  61,  61,  61,  61,  62,  62,\n",
       "          62,  62,  62,  62,  62,  63,  63,  63,  63,  63,  63,  63,  64,\n",
       "          64,  64,  64,  64,  64,  64,  65,  65,  65,  65,  65,  65,  65,\n",
       "          66,  66,  66,  66,  66,  66,  66,  67,  67,  67,  67,  67,  67,\n",
       "          67,  68,  68,  68,  68,  68,  68,  68,  69,  69,  69,  69,  69,\n",
       "          69,  69,  70,  70,  70,  70,  70,  70,  70,  71,  71,  71,  71,\n",
       "          71,  71,  71,  72,  72,  72,  72,  72,  72,  72,  73,  73,  73,\n",
       "          73,  73,  73,  73,  74,  74,  74,  74,  74,  74,  74,  75,  75,\n",
       "          75,  75,  75,  75,  75,  76,  76,  76,  76,  76,  76,  76,  77,\n",
       "          77,  77,  77,  77,  77,  77,  78,  78,  78,  78,  78,  78,  78,\n",
       "          79,  79,  79,  79,  79,  79,  79,  80,  80,  80,  80,  80,  80,\n",
       "          80,  81,  81,  81,  81,  81,  81,  81,  82,  82,  82,  82,  82,\n",
       "          82,  82,  83,  83,  83,  83,  83,  83,  83,  84,  84,  84,  84,\n",
       "          84,  84,  84,  85,  85,  85,  85,  85,  85,  85,  86,  86,  86,\n",
       "          86,  86,  86,  86,  87,  87,  87,  87,  87,  87,  87,  88,  88,\n",
       "          88,  88,  88,  88,  88,  89,  89,  89,  89,  89,  89,  89,  90,\n",
       "          90,  90,  90,  90,  90,  90,  91,  91,  91,  91,  91,  91,  91,\n",
       "          92,  92,  92,  92,  92,  92,  92,  93,  93,  93,  93,  93,  93,\n",
       "          93,  94,  94,  94,  94,  94,  94,  94,  95,  95,  95,  95,  95,\n",
       "          95,  95,  96,  96,  96,  96,  96,  96,  96,  97,  97,  97,  97,\n",
       "          97,  97,  97,  98,  98,  98,  98,  98,  98,  98,  99,  99,  99,\n",
       "          99,  99,  99,  99, 100, 100, 100, 100, 100, 100, 100]], dtype=uint8)}"
      ]
     },
     "execution_count": 3,
     "metadata": {},
     "output_type": "execute_result"
    }
   ],
   "source": [
    "data"
   ]
  },
  {
   "cell_type": "code",
   "execution_count": 90,
   "metadata": {},
   "outputs": [
    {
     "data": {
      "text/plain": [
       "array([[ 0.00086975,  0.00083923,  0.00086975, ...,  0.00389099,\n",
       "         0.00389099,  0.00389099],\n",
       "       [ 0.00083923,  0.00085449,  0.00082397, ...,  0.00389099,\n",
       "         0.00389099,  0.00389099],\n",
       "       [ 0.00086975,  0.0007782 ,  0.00079346, ...,  0.00389099,\n",
       "         0.00389099,  0.00389099],\n",
       "       ..., \n",
       "       [ 0.00064087,  0.00065613,  0.00057983, ...,  0.00354004,\n",
       "         0.00323486,  0.00308228],\n",
       "       [ 0.00071716,  0.0007019 ,  0.00062561, ...,  0.00389099,\n",
       "         0.00389099,  0.00389099],\n",
       "       [ 0.00088501,  0.00071716,  0.00067139, ...,  0.00389099,\n",
       "         0.00387573,  0.00387573]], dtype=float32)"
      ]
     },
     "execution_count": 90,
     "metadata": {},
     "output_type": "execute_result"
    }
   ],
   "source": [
    "grid = [[0]*57]*47\n",
    "k=0\n",
    "g=0\n",
    "matrix_a = np.array(grid)\n",
    "matrix_a = matrix_a.astype('float32')\n",
    "for i in range(47):\n",
    "    for j in range(57):\n",
    "        matrix_a[i][j] = Tr_dataMatrix[5][k]/256\n",
    "        k=k+1\n",
    "matrix_a\n"
   ]
  },
  {
   "cell_type": "code",
   "execution_count": 163,
   "metadata": {},
   "outputs": [
    {
     "data": {
      "text/plain": [
       "array([[ 0.16015625,  0.109375  ,  0.109375  , ...,  0.99609375,\n",
       "         0.9921875 ,  0.9921875 ],\n",
       "       [ 0.30859375,  0.14453125,  0.11328125, ...,  0.99609375,\n",
       "         0.9921875 ,  0.9921875 ],\n",
       "       [ 0.109375  ,  0.11328125,  0.12890625, ...,  0.99609375,\n",
       "         0.9921875 ,  0.9921875 ],\n",
       "       ..., \n",
       "       [ 0.12109375,  0.12109375,  0.12890625, ...,  0.1015625 ,\n",
       "         0.09765625,  0.0859375 ],\n",
       "       [ 0.1796875 ,  0.15625   ,  0.14453125, ...,  0.07421875,\n",
       "         0.07421875,  0.08203125],\n",
       "       [ 0.171875  ,  0.16015625,  0.16796875, ...,  0.09765625,\n",
       "         0.09765625,  0.10546875]], dtype=float32)"
      ]
     },
     "execution_count": 163,
     "metadata": {},
     "output_type": "execute_result"
    },
    {
     "data": {
      "image/png": "[encoded data removed]",
      "text/plain": [
       "<matplotlib.figure.Figure at 0x7f870ebdbed0>"
      ]
     },
     "metadata": {},
     "output_type": "display_data"
    }
   ],
   "source": [
    "Tr_dataMatrix = data['O_Tt_DAT'].T.astype('float32')/256\n",
    "Tr_sampleLabels = data['Tr_sampleLabels'].astype('float32')\n",
    "bbb = Tr_dataMatrix[:][1]\n",
    "'''\n",
    "bbb.resize((47,57))\n",
    "Tr_dataMatrix.shape\n",
    "img1 = plt.imshow(bbb.T)\n",
    "img1\n",
    "'''\n",
    "ddd = bbb.resize((47,57))\n",
    "img1 = plt.imshow(bbb)\n",
    "img1\n",
    "Tr_dataMatrix"
   ]
  },
  {
   "cell_type": "code",
   "execution_count": 148,
   "metadata": {},
   "outputs": [],
   "source": [
    "import os\n",
    "import numpy as np\n",
    "import tensorflow as tf\n",
    "import matplotlib.pyplot as plt\n",
    "import matplotlib.image as mpimg\n",
    "import matplotlib.patches as patches\n",
    "import numpy\n",
    "from PIL import Image\n",
    "\n",
    "#获取dataset\n",
    "def load_data(dataset_path):\n",
    "    img = Image.open(dataset_path)\n",
    "    # 定义一个20 × 20的训练样本，一共有40个人，每个人都10张样本照片\n",
    "    img_ndarray = np.asarray(img, dtype='float64') / 256\n",
    "    #img_ndarray = np.asarray(img, dtype='float32') / 32\n",
    "\n",
    "    # 记录脸数据矩阵，57 * 47为每张脸的像素矩阵\n",
    "    faces = np.empty((400, 57 * 47))\n",
    "\n",
    "    for row in range(20):\n",
    "        for column in range(20):\n",
    "            faces[20 * row + column] = np.ndarray.flatten(\n",
    "                img_ndarray[row * 57: (row + 1) * 57, column * 47 : (column + 1) * 47]\n",
    "            )\n",
    "\n",
    "    label = np.zeros((400, 40))\n",
    "    for i in range(40):\n",
    "        label[i * 10: (i + 1) * 10, i] = 1\n",
    "\n",
    "    # 将数据分成训练集，验证集，测试集\n",
    "    train_data = np.empty((320, 57 * 47))\n",
    "    train_label = np.zeros((320, 40))\n",
    "    vaild_data = np.empty((40, 57 * 47))\n",
    "    vaild_label = np.zeros((40, 40))\n",
    "    test_data = np.empty((40, 57 * 47))\n",
    "    test_label = np.zeros((40, 40))\n",
    "\n",
    "    for i in range(40):\n",
    "        train_data[i * 8: i * 8 + 8] = faces[i * 10: i * 10 + 8]\n",
    "        train_label[i * 8: i * 8 + 8] = label[i * 10: i * 10 + 8]\n",
    "\n",
    "        vaild_data[i] = faces[i * 10 + 8]\n",
    "        vaild_label[i] = label[i * 10 + 8]\n",
    "\n",
    "        test_data[i] = faces[i * 10 + 9]\n",
    "        test_label[i] = label[i * 10 + 9]\n",
    "\n",
    "    train_data = train_data.astype('float32')\n",
    "    vaild_data = vaild_data.astype('float32')\n",
    "    test_data = test_data.astype('float32')\n",
    "\n",
    "    return [\n",
    "        (train_data, train_label),\n",
    "        (vaild_data, vaild_label),\n",
    "        (test_data, test_label)\n",
    "    ]"
   ]
  },
  {
   "cell_type": "code",
   "execution_count": 110,
   "metadata": {},
   "outputs": [
    {
     "ename": "ValueError",
     "evalue": "setting an array element with a sequence.",
     "output_type": "error",
     "traceback": [
      "\u001b[0;31m---------------------------------------------------------------------------\u001b[0m",
      "\u001b[0;31mValueError\u001b[0m                                Traceback (most recent call last)",
      "\u001b[0;32m<ipython-input-110-215dc41dd6a2>\u001b[0m in \u001b[0;36m<module>\u001b[0;34m()\u001b[0m\n\u001b[1;32m      6\u001b[0m \u001b[0;32mfor\u001b[0m \u001b[0mi\u001b[0m \u001b[0;32min\u001b[0m \u001b[0mrange\u001b[0m\u001b[0;34m(\u001b[0m\u001b[0;36m57\u001b[0m\u001b[0;34m)\u001b[0m\u001b[0;34m:\u001b[0m\u001b[0;34m\u001b[0m\u001b[0m\n\u001b[1;32m      7\u001b[0m     \u001b[0;32mfor\u001b[0m \u001b[0mj\u001b[0m \u001b[0;32min\u001b[0m \u001b[0mrange\u001b[0m\u001b[0;34m(\u001b[0m\u001b[0;36m47\u001b[0m\u001b[0;34m)\u001b[0m\u001b[0;34m:\u001b[0m\u001b[0;34m\u001b[0m\u001b[0m\n\u001b[0;32m----> 8\u001b[0;31m         \u001b[0mmatrix_a\u001b[0m\u001b[0;34m[\u001b[0m\u001b[0mi\u001b[0m\u001b[0;34m]\u001b[0m\u001b[0;34m[\u001b[0m\u001b[0mj\u001b[0m\u001b[0;34m]\u001b[0m \u001b[0;34m=\u001b[0m \u001b[0mbbb\u001b[0m\u001b[0;34m[\u001b[0m\u001b[0mk\u001b[0m\u001b[0;34m]\u001b[0m\u001b[0;34m\u001b[0m\u001b[0m\n\u001b[0m\u001b[1;32m      9\u001b[0m         \u001b[0mk\u001b[0m\u001b[0;34m=\u001b[0m\u001b[0mk\u001b[0m\u001b[0;34m+\u001b[0m\u001b[0;36m1\u001b[0m\u001b[0;34m\u001b[0m\u001b[0m\n\u001b[1;32m     10\u001b[0m \u001b[0mmatrix_a\u001b[0m\u001b[0;34m\u001b[0m\u001b[0m\n",
      "\u001b[0;31mValueError\u001b[0m: setting an array element with a sequence."
     ]
    }
   ],
   "source": [
    "grid = [[0]*57]*47\n",
    "k=0\n",
    "g=0\n",
    "matrix_a = np.array(grid)\n",
    "matrix_a = matrix_a.astype('float32')\n",
    "for i in range(57):\n",
    "    for j in range(47):\n",
    "        matrix_a[i][j] = bbb[k]\n",
    "        k=k+1\n",
    "matrix_a"
   ]
  },
  {
   "cell_type": "code",
   "execution_count": 165,
   "metadata": {},
   "outputs": [
    {
     "data": {
      "text/plain": [
       "array([[ 0.1875    ,  0.17578125,  0.19140625, ...,  0.9609375 ,\n",
       "         0.9609375 ,  0.9609375 ],\n",
       "       [ 0.234375  ,  0.2421875 ,  0.1875    , ...,  0.9609375 ,\n",
       "         0.9609375 ,  0.9609375 ],\n",
       "       [ 0.15234375,  0.20703125,  0.23828125, ...,  0.9609375 ,\n",
       "         0.9609375 ,  0.9609375 ],\n",
       "       ..., \n",
       "       [ 0.9609375 ,  0.48046875,  0.4921875 , ...,  0.9609375 ,\n",
       "         0.9609375 ,  0.9609375 ],\n",
       "       [ 0.9609375 ,  0.50390625,  0.51953125, ...,  0.9609375 ,\n",
       "         0.9609375 ,  0.9609375 ],\n",
       "       [ 0.9609375 ,  0.48828125,  0.484375  , ...,  0.9609375 ,\n",
       "         0.9609375 ,  0.9609375 ]], dtype=float32)"
      ]
     },
     "execution_count": 165,
     "metadata": {},
     "output_type": "execute_result"
    },
    {
     "data": {
      "image/png": "[encoded data removed]",
      "text/plain": [
       "<matplotlib.figure.Figure at 0x7f870e9f83d0>"
      ]
     },
     "metadata": {},
     "output_type": "display_data"
    }
   ],
   "source": [
    "aaa=load_data('olivettifaces.gif')[0][0]\n",
    "\n",
    "bbb = aaa[:][1]\n",
    "\n",
    "bbb.resize((57,47))\n",
    "aaa.shape\n",
    "img1 = plt.imshow(bbb)\n",
    "img1\n",
    "aaa"
   ]
  },
  {
   "cell_type": "code",
   "execution_count": 166,
   "metadata": {},
   "outputs": [
    {
     "data": {
      "text/plain": [
       "array([[ 1.,  0.,  0., ...,  0.,  0.,  0.],\n",
       "       [ 1.,  0.,  0., ...,  0.,  0.,  0.],\n",
       "       [ 1.,  0.,  0., ...,  0.,  0.,  0.],\n",
       "       ..., \n",
       "       [ 0.,  0.,  0., ...,  0.,  0.,  1.],\n",
       "       [ 0.,  0.,  0., ...,  0.,  0.,  1.],\n",
       "       [ 0.,  0.,  0., ...,  0.,  0.,  1.]])"
      ]
     },
     "execution_count": 166,
     "metadata": {},
     "output_type": "execute_result"
    }
   ],
   "source": [
    "ccc = load_data('olivettifaces.gif')[0][1]\n",
    "ccc"
   ]
  },
  {
   "cell_type": "code",
   "execution_count": 183,
   "metadata": {},
   "outputs": [
    {
     "data": {
      "text/plain": [
       "array([ 0.,  0.,  0.,  0.,  0.,  0.,  0.,  0.,  0.,  0.,  0.,  0.,  0.,\n",
       "        0.,  0.,  0.,  0.,  0.,  0.,  0.,  0.,  0.,  0.,  0.,  0.,  0.,\n",
       "        0.,  0.,  0.,  0.,  0.,  0.,  0.,  0.,  0.,  0.,  0.,  0.,  0.,  1.])"
      ]
     },
     "execution_count": 183,
     "metadata": {},
     "output_type": "execute_result"
    }
   ],
   "source": [
    "ccc[319]"
   ]
  },
  {
   "cell_type": "code",
   "execution_count": 344,
   "metadata": {},
   "outputs": [],
   "source": [
    "def load_face():\n",
    "    data=sio.loadmat('AR_buzhedang.mat')\n",
    "    Tr_dataMatrix = data['O_Tt_DAT'].T.astype('float32')/256\n",
    "    Tr_sampleLabels = data['trls'].astype('float32')\n",
    "    Tt_dataMatrix = data['O_Tr_DAT'].astype('float32')/256\n",
    "    #Tt_sampleLabels = data['try'].astype('float32')\n",
    "    dat=Tr_dataMatrix\n",
    "    dat2 = Tt_dataMatrix\n",
    "    label = np.zeros((1400, 100))\n",
    "    for i in range(100):\n",
    "        label[i * 14: (i + 1) * 14, i] = 1\n",
    "        \n",
    "    faces = np.empty((1400, 57 * 47))\n",
    "    \n",
    "    ii=0\n",
    "    for i in range(700):\n",
    "        bbb = dat[:][i]\n",
    "        grid = [[0]*57]*47\n",
    "        bbb.resize((47,57))\n",
    "        grid = bbb.T\n",
    "        g2 = [[0]*2679]*1\n",
    "        matrix_a = np.array(g2)\n",
    "        matrix_a = matrix_a.astype('float32')\n",
    "        g=0\n",
    "        bbb2 = dat2[:][i]\n",
    "        grid2 = [[0]*57]*47\n",
    "        bbb2.resize((47,57))\n",
    "        grid2 = bbb2.T\n",
    "        g22 = [[0]*2679]*1\n",
    "        matrix_a2 = np.array(g2)\n",
    "        matrix_a2 = matrix_a.astype('float32')\n",
    "        gg=0\n",
    "        for j in range(57):\n",
    "            for k in range(47):\n",
    "                matrix_a[0][g]=grid[j][k]\n",
    "                g=g+1\n",
    "        faces[ii][:]= matrix_a\n",
    "        ii = ii+1\n",
    "        for j2 in range(57):\n",
    "            for k2 in range(47):\n",
    "                matrix_a[0][gg]=grid[j2][k2]\n",
    "                gg=gg+1\n",
    "        faces[ii][:]= matrix_a\n",
    "        ii=ii+1\n",
    "        \n",
    "    #print faces.shape\n",
    "        \n",
    "\n",
    "    train_data = np.empty((500, 57 * 47))\n",
    "    train_label = np.zeros((500, 100))\n",
    "    vaild_data = np.empty((100, 57 * 47))\n",
    "    vaild_label = np.zeros((100, 100))\n",
    "    test_data = np.empty((100, 57 * 47))\n",
    "    test_label = np.zeros((100, 100))\n",
    "\n",
    "    for i in range(100):\n",
    "        train_data[i * 5: i * 5 + 5] = faces[i * 7: i * 7 + 5]\n",
    "        train_label[i * 5: i * 5 + 5] = label[i * 7: i * 7 + 5]\n",
    "\n",
    "        vaild_data[i] = faces[i * 7 + 5]\n",
    "        vaild_label[i] = label[i * 7 + 5]\n",
    "\n",
    "        test_data[i] = faces[i * 7 + 6]\n",
    "        test_label[i] = label[i * 7 + 6]\n",
    "\n",
    "    train_data = train_data.astype('float32')\n",
    "    vaild_data = vaild_data.astype('float32')\n",
    "    test_data = test_data.astype('float32')\n",
    "\n",
    "    return [\n",
    "        (train_data, train_label),\n",
    "        (vaild_data, vaild_label),\n",
    "        (test_data, test_label)\n",
    "    ]\n"
   ]
  },
  {
   "cell_type": "code",
   "execution_count": 345,
   "metadata": {},
   "outputs": [
    {
     "ename": "ValueError",
     "evalue": "resize only works on single-segment arrays",
     "output_type": "error",
     "traceback": [
      "\u001b[0;31m---------------------------------------------------------------------------\u001b[0m",
      "\u001b[0;31mValueError\u001b[0m                                Traceback (most recent call last)",
      "\u001b[0;32m<ipython-input-345-56d4ca33f14c>\u001b[0m in \u001b[0;36m<module>\u001b[0;34m()\u001b[0m\n\u001b[0;32m----> 1\u001b[0;31m \u001b[0ma\u001b[0m \u001b[0;34m=\u001b[0m \u001b[0mload_face\u001b[0m\u001b[0;34m(\u001b[0m\u001b[0;34m)\u001b[0m\u001b[0;34m[\u001b[0m\u001b[0;36m0\u001b[0m\u001b[0;34m]\u001b[0m\u001b[0;34m[\u001b[0m\u001b[0;36m0\u001b[0m\u001b[0;34m]\u001b[0m\u001b[0;34m\u001b[0m\u001b[0m\n\u001b[0m\u001b[1;32m      2\u001b[0m \u001b[0mbbb\u001b[0m \u001b[0;34m=\u001b[0m \u001b[0ma\u001b[0m\u001b[0;34m[\u001b[0m\u001b[0;34m:\u001b[0m\u001b[0;34m]\u001b[0m\u001b[0;34m[\u001b[0m\u001b[0;36m4\u001b[0m\u001b[0;34m]\u001b[0m\u001b[0;34m\u001b[0m\u001b[0m\n\u001b[1;32m      3\u001b[0m \u001b[0;34m\u001b[0m\u001b[0m\n\u001b[1;32m      4\u001b[0m \u001b[0mbbb\u001b[0m\u001b[0;34m.\u001b[0m\u001b[0mresize\u001b[0m\u001b[0;34m(\u001b[0m\u001b[0;34m(\u001b[0m\u001b[0;36m57\u001b[0m\u001b[0;34m,\u001b[0m\u001b[0;36m47\u001b[0m\u001b[0;34m)\u001b[0m\u001b[0;34m)\u001b[0m\u001b[0;34m\u001b[0m\u001b[0m\n\u001b[1;32m      5\u001b[0m \u001b[0mimg1\u001b[0m \u001b[0;34m=\u001b[0m \u001b[0mplt\u001b[0m\u001b[0;34m.\u001b[0m\u001b[0mimshow\u001b[0m\u001b[0;34m(\u001b[0m\u001b[0mbbb\u001b[0m\u001b[0;34m)\u001b[0m\u001b[0;34m\u001b[0m\u001b[0m\n",
      "\u001b[0;32m<ipython-input-344-0f92e0a74086>\u001b[0m in \u001b[0;36mload_face\u001b[0;34m()\u001b[0m\n\u001b[1;32m     25\u001b[0m         \u001b[0mbbb2\u001b[0m \u001b[0;34m=\u001b[0m \u001b[0mdat2\u001b[0m\u001b[0;34m[\u001b[0m\u001b[0;34m:\u001b[0m\u001b[0;34m]\u001b[0m\u001b[0;34m[\u001b[0m\u001b[0mi\u001b[0m\u001b[0;34m]\u001b[0m\u001b[0;34m\u001b[0m\u001b[0m\n\u001b[1;32m     26\u001b[0m         \u001b[0mgrid2\u001b[0m \u001b[0;34m=\u001b[0m \u001b[0;34m[\u001b[0m\u001b[0;34m[\u001b[0m\u001b[0;36m0\u001b[0m\u001b[0;34m]\u001b[0m\u001b[0;34m*\u001b[0m\u001b[0;36m57\u001b[0m\u001b[0;34m]\u001b[0m\u001b[0;34m*\u001b[0m\u001b[0;36m47\u001b[0m\u001b[0;34m\u001b[0m\u001b[0m\n\u001b[0;32m---> 27\u001b[0;31m         \u001b[0mbbb2\u001b[0m\u001b[0;34m.\u001b[0m\u001b[0mresize\u001b[0m\u001b[0;34m(\u001b[0m\u001b[0;34m(\u001b[0m\u001b[0;36m47\u001b[0m\u001b[0;34m,\u001b[0m\u001b[0;36m57\u001b[0m\u001b[0;34m)\u001b[0m\u001b[0;34m)\u001b[0m\u001b[0;34m\u001b[0m\u001b[0m\n\u001b[0m\u001b[1;32m     28\u001b[0m         \u001b[0mgrid2\u001b[0m \u001b[0;34m=\u001b[0m \u001b[0mbbb2\u001b[0m\u001b[0;34m.\u001b[0m\u001b[0mT\u001b[0m\u001b[0;34m\u001b[0m\u001b[0m\n\u001b[1;32m     29\u001b[0m         \u001b[0mg22\u001b[0m \u001b[0;34m=\u001b[0m \u001b[0;34m[\u001b[0m\u001b[0;34m[\u001b[0m\u001b[0;36m0\u001b[0m\u001b[0;34m]\u001b[0m\u001b[0;34m*\u001b[0m\u001b[0;36m2679\u001b[0m\u001b[0;34m]\u001b[0m\u001b[0;34m*\u001b[0m\u001b[0;36m1\u001b[0m\u001b[0;34m\u001b[0m\u001b[0m\n",
      "\u001b[0;31mValueError\u001b[0m: resize only works on single-segment arrays"
     ]
    }
   ],
   "source": [
    "a = load_face()[0][0]\n",
    "bbb = a[:][4]\n",
    "\n",
    "bbb.resize((57,47))\n",
    "img1 = plt.imshow(bbb)\n",
    "img1\n",
    "aaa"
   ]
  },
  {
   "cell_type": "code",
   "execution_count": 300,
   "metadata": {},
   "outputs": [],
   "source": [
    "aaa=load_face()[0][0]\n",
    "\n",
    "bbb = aaa[:][1]\n",
    "grid = [[0]*57]*47\n",
    "bbb.resize((47,57))\n",
    "grid = bbb.T\n",
    "k=0\n",
    "g2 = [[0]*2679]*1\n",
    "matrix_a = np.array(g2)\n",
    "matrix_a = matrix_a.astype('float32')\n",
    "for i in range(57):\n",
    "    for j in range(47):\n",
    "        matrix_a[0][k]=grid[i][j]\n",
    "        k=k+1\n",
    "faces = np.empty((700, 57 * 47))\n",
    "faces[0][:]= matrix_a"
   ]
  },
  {
   "cell_type": "code",
   "execution_count": 301,
   "metadata": {},
   "outputs": [
    {
     "data": {
      "text/plain": [
       "array([ 0.30859375,  0.171875  ,  0.13671875, ...,  0.99609375,\n",
       "        0.9921875 ,  0.9921875 ])"
      ]
     },
     "execution_count": 301,
     "metadata": {},
     "output_type": "execute_result"
    },
    {
     "data": {
      "image/png": "[encoded data removed]",
      "text/plain": [
       "<matplotlib.figure.Figure at 0x7f870f2b8190>"
      ]
     },
     "metadata": {},
     "output_type": "display_data"
    }
   ],
   "source": [
    "matrix_a.resize((57,47))\n",
    "img1 = plt.imshow(matrix_a)\n",
    "faces[0]"
   ]
  },
  {
   "cell_type": "code",
   "execution_count": 252,
   "metadata": {},
   "outputs": [],
   "source": [
    "data=sio.loadmat('AR_buzhedang.mat')\n",
    "for h in range(700):\n",
    "    k=0\n",
    "    g2 = [[0]*2679]*1\n",
    "    matrix_a = np.array(g2)\n",
    "    matrix_a = matrix_a.astype('float32')\n",
    "    for i in range(57):\n",
    "        for j in range(47):\n",
    "            matrix_a[0][k]=grid[i][j]\n",
    "            k=k+1\n",
    "    "
   ]
  },
  {
   "cell_type": "code",
   "execution_count": 290,
   "metadata": {},
   "outputs": [],
   "source": [
    "data=sio.loadmat('AR_buzhedang.mat')\n",
    "bbb = Tr_dataMatrix"
   ]
  },
  {
   "cell_type": "code",
   "execution_count": 291,
   "metadata": {},
   "outputs": [
    {
     "data": {
      "text/plain": [
       "array([[ 0.16015625,  0.109375  ,  0.109375  , ...,  0.99609375,\n",
       "         0.9921875 ,  0.9921875 ],\n",
       "       [ 0.30859375,  0.14453125,  0.11328125, ...,  0.99609375,\n",
       "         0.9921875 ,  0.9921875 ],\n",
       "       [ 0.109375  ,  0.11328125,  0.12890625, ...,  0.99609375,\n",
       "         0.9921875 ,  0.9921875 ],\n",
       "       ..., \n",
       "       [ 0.12109375,  0.12109375,  0.12890625, ...,  0.1015625 ,\n",
       "         0.09765625,  0.0859375 ],\n",
       "       [ 0.1796875 ,  0.15625   ,  0.14453125, ...,  0.07421875,\n",
       "         0.07421875,  0.08203125],\n",
       "       [ 0.171875  ,  0.16015625,  0.16796875, ...,  0.09765625,\n",
       "         0.09765625,  0.10546875]], dtype=float32)"
      ]
     },
     "execution_count": 291,
     "metadata": {},
     "output_type": "execute_result"
    }
   ],
   "source": [
    "bbb"
   ]
  },
  {
   "cell_type": "code",
   "execution_count": 293,
   "metadata": {},
   "outputs": [
    {
     "data": {
      "text/plain": [
       "(2679,)"
      ]
     },
     "execution_count": 293,
     "metadata": {},
     "output_type": "execute_result"
    }
   ],
   "source": [
    "bbb[:][0].shape"
   ]
  },
  {
   "cell_type": "code",
   "execution_count": 313,
   "metadata": {},
   "outputs": [
    {
     "name": "stdout",
     "output_type": "stream",
     "text": [
      "[[ 0.16015625  0.12109375  0.12109375 ...,  0.8671875   0.99609375\n",
      "   0.9921875 ]\n",
      " [ 0.30859375  0.171875    0.13671875 ...,  0.99609375  0.9921875\n",
      "   0.9921875 ]\n",
      " [ 0.109375    0.109375    0.12109375 ...,  0.99609375  0.99609375\n",
      "   0.9921875 ]\n",
      " ..., \n",
      " [ 0.12109375  0.12109375  0.125      ...,  0.078125    0.09375     0.0859375 ]\n",
      " [ 0.1796875   0.14453125  0.14453125 ...,  0.1015625   0.09765625\n",
      "   0.08203125]\n",
      " [ 0.171875    0.15625     0.15625    ...,  0.125       0.109375\n",
      "   0.10546875]]\n"
     ]
    }
   ],
   "source": [
    "    faces = np.empty((700, 57 * 47))\n",
    "    dat = Tr_dataMatrix\n",
    "    for i in range(700):\n",
    "        bbb = dat[:][i]\n",
    "        grid = [[0]*57]*47\n",
    "        bbb.resize((47,57))\n",
    "        grid = bbb.T\n",
    "        #print grid.shape\n",
    "        #print grid\n",
    "        g2 = [[0]*2679]*1\n",
    "        matrix_a = np.array(g2)\n",
    "        matrix_a = matrix_a.astype('float32')\n",
    "        g=0\n",
    "        for j in range(57):\n",
    "            for k in range(47):\n",
    "                matrix_a[0][g]=grid[j][k]\n",
    "                g=g+1\n",
    "        faces[i][:]= matrix_a\n",
    "        \n",
    "    print faces\n",
    "        "
   ]
  },
  {
   "cell_type": "code",
   "execution_count": 5,
   "metadata": {},
   "outputs": [
    {
     "name": "stdout",
     "output_type": "stream",
     "text": [
      "(700,)\n"
     ]
    },
    {
     "ename": "ValueError",
     "evalue": "resize only works on single-segment arrays",
     "output_type": "error",
     "traceback": [
      "\u001b[0;31m---------------------------------------------------------------------------\u001b[0m",
      "\u001b[0;31mValueError\u001b[0m                                Traceback (most recent call last)",
      "\u001b[0;32m<ipython-input-5-a28468c85b9d>\u001b[0m in \u001b[0;36m<module>\u001b[0;34m()\u001b[0m\n\u001b[1;32m     17\u001b[0m     \u001b[0;32mprint\u001b[0m \u001b[0mbbb\u001b[0m\u001b[0;34m.\u001b[0m\u001b[0mshape\u001b[0m\u001b[0;34m\u001b[0m\u001b[0m\n\u001b[1;32m     18\u001b[0m     \u001b[0mgrid\u001b[0m \u001b[0;34m=\u001b[0m \u001b[0;34m[\u001b[0m\u001b[0;34m[\u001b[0m\u001b[0;36m0\u001b[0m\u001b[0;34m]\u001b[0m\u001b[0;34m*\u001b[0m\u001b[0;36m57\u001b[0m\u001b[0;34m]\u001b[0m\u001b[0;34m*\u001b[0m\u001b[0;36m47\u001b[0m\u001b[0;34m\u001b[0m\u001b[0m\n\u001b[0;32m---> 19\u001b[0;31m     \u001b[0mbbb\u001b[0m\u001b[0;34m.\u001b[0m\u001b[0mresize\u001b[0m\u001b[0;34m(\u001b[0m\u001b[0;34m(\u001b[0m\u001b[0;36m47\u001b[0m\u001b[0;34m,\u001b[0m\u001b[0;36m57\u001b[0m\u001b[0;34m)\u001b[0m\u001b[0;34m)\u001b[0m\u001b[0;34m\u001b[0m\u001b[0m\n\u001b[0m\u001b[1;32m     20\u001b[0m     \u001b[0mg2\u001b[0m \u001b[0;34m=\u001b[0m \u001b[0;34m[\u001b[0m\u001b[0;34m[\u001b[0m\u001b[0;36m0\u001b[0m\u001b[0;34m]\u001b[0m\u001b[0;34m*\u001b[0m\u001b[0;36m2679\u001b[0m\u001b[0;34m]\u001b[0m\u001b[0;34m*\u001b[0m\u001b[0;36m1\u001b[0m\u001b[0;34m\u001b[0m\u001b[0m\n\u001b[1;32m     21\u001b[0m     \u001b[0mmatrix_a\u001b[0m \u001b[0;34m=\u001b[0m \u001b[0mnp\u001b[0m\u001b[0;34m.\u001b[0m\u001b[0marray\u001b[0m\u001b[0;34m(\u001b[0m\u001b[0mg2\u001b[0m\u001b[0;34m)\u001b[0m\u001b[0;34m\u001b[0m\u001b[0m\n",
      "\u001b[0;31mValueError\u001b[0m: resize only works on single-segment arrays"
     ]
    }
   ],
   "source": [
    "    data=sio.loadmat('AR_buzhedang.mat')\n",
    "    Tr_dataMatrix = data['O_Tt_DAT'].T.astype('float32')/256\n",
    "    Tr_sampleLabels = data['trls'].astype('float32')\n",
    "    Tt_dataMatrix = data['O_Tr_DAT'].astype('float32')/256\n",
    "    #Tt_sampleLabels = data['try'].astype('float32')\n",
    "    dat=Tr_dataMatrix\n",
    "    dat = Tt_dataMatrix\n",
    "    label = np.zeros((1400, 100))\n",
    "    for i in range(100):\n",
    "        label[i * 14: (i + 1) * 14, i] = 1\n",
    "        \n",
    "    faces = np.empty((1400, 57 * 47))\n",
    "    \n",
    "    ii=0\n",
    "    for i in range(700):\n",
    "        bbb = dat[:][i]\n",
    "        print bbb.shape\n",
    "        grid = [[0]*57]*47\n",
    "        bbb.resize((47,57))\n",
    "        g2 = [[0]*2679]*1\n",
    "        matrix_a = np.array(g2)\n",
    "        matrix_a = matrix_a.astype('float32')\n",
    "        g=0\n",
    "        for j in range(57):\n",
    "            for k in range(47):\n",
    "                matrix_a[0][g]=grid[j][k]\n",
    "                g=g+1\n",
    "        faces[i*2][:]= matrix_a\n",
    "        "
   ]
  },
  {
   "cell_type": "code",
   "execution_count": 363,
   "metadata": {},
   "outputs": [
    {
     "name": "stdout",
     "output_type": "stream",
     "text": [
      "[ 0.125       0.703125    0.12890625  0.9921875   0.90234375  0.95703125\n",
      "  0.984375    0.1015625   0.12890625  0.109375    0.1953125   0.125\n",
      "  0.16015625  0.2265625   0.1015625   0.109375    0.12109375  0.1171875\n",
      "  0.13671875  0.140625    0.1796875   0.08984375  0.09765625  0.08984375\n",
      "  0.08984375  0.10546875  0.1640625   0.203125    0.10546875  0.0859375\n",
      "  0.0859375   0.11328125  0.1171875   0.16796875  0.17578125  0.08984375\n",
      "  0.10546875  0.09375     0.10546875  0.109375    0.15234375  0.15234375\n",
      "  0.25390625  0.11328125  0.12890625  0.0859375   0.09765625  0.1171875\n",
      "  0.12890625  0.09375     0.1015625   0.08984375  0.08984375  0.1171875\n",
      "  0.1171875   0.13671875  0.14453125  0.1484375   0.14453125  0.140625\n",
      "  0.16796875  0.23046875  0.23828125  0.7890625   0.19921875  0.1328125\n",
      "  0.1640625   0.1953125   0.390625    0.41015625  0.13671875  0.125\n",
      "  0.1171875   0.12109375  0.12109375  0.33203125  0.3359375   0.09765625\n",
      "  0.09765625  0.09765625  0.09375     0.1171875   0.1953125   0.24609375\n",
      "  0.125       0.11328125  0.1171875   0.1015625   0.125       0.28515625\n",
      "  0.26953125  0.1171875   0.1171875   0.1171875   0.1171875   0.12890625\n",
      "  0.28515625  0.27734375  0.1015625   0.1015625   0.10546875  0.08984375\n",
      "  0.109375    0.24609375  0.2578125   0.90234375  0.70703125  0.1328125\n",
      "  0.48046875  0.1796875   0.18359375  0.21484375  0.0859375   0.109375\n",
      "  0.08984375  0.08984375  0.12109375  0.23046875  0.30859375  0.09765625\n",
      "  0.1015625   0.08984375  0.09765625  0.1171875   0.14453125  0.15234375\n",
      "  0.1328125   0.125       0.12109375  0.13671875  0.125       0.2578125\n",
      "  0.29296875  0.75        0.96484375  0.99609375  0.99609375  0.97265625\n",
      "  0.99609375  0.984375    0.30078125  0.19140625  0.1484375   0.87890625\n",
      "  0.8046875   0.2421875   0.67578125  0.1484375   0.1796875   0.1484375\n",
      "  0.14453125  0.171875    0.20703125  0.2265625   0.109375    0.12890625\n",
      "  0.1328125   0.12109375  0.1484375   0.1875      0.21875     0.1328125\n",
      "  0.1484375   0.11328125  0.125       0.1640625   0.30859375  0.31640625\n",
      "  0.15234375  0.11328125  0.1328125   0.12890625  0.1640625   0.2421875\n",
      "  0.23046875  0.078125    0.0703125   0.078125    0.07421875  0.09375\n",
      "  0.1484375   0.21875     0.07421875  0.08203125  0.09765625  0.08984375\n",
      "  0.1015625   0.17578125  0.22265625  0.12109375  0.12890625  0.15234375\n",
      "  0.1484375   0.13671875  0.26953125  0.2578125   0.08984375  0.0859375\n",
      "  0.0859375   0.08984375  0.109375    0.14453125  0.13671875  0.1171875\n",
      "  0.1328125   0.09765625  0.13671875  0.1484375   0.29296875  0.27734375\n",
      "  0.0859375   0.08203125  0.15625     0.1015625   0.09765625  0.10546875\n",
      "  0.19140625  0.99609375  0.99609375  0.99609375  0.99609375  0.99609375\n",
      "  0.99609375  0.99609375  0.12890625  0.22265625  0.17578125  0.13671875\n",
      "  0.22265625  0.296875    0.3203125   0.11328125  0.12109375  0.125\n",
      "  0.1484375   0.1484375   0.16796875  0.21875     0.1328125   0.1328125\n",
      "  0.109375    0.15234375  0.16015625  0.265625    0.35546875  0.1640625\n",
      "  0.99609375  0.11328125  0.640625    0.14453125  0.2265625   0.93359375\n",
      "  0.7265625   0.796875    0.11328125  0.99609375  0.19921875  0.77734375\n",
      "  0.21875     0.99609375  0.99609375  0.375       0.99609375  0.28125\n",
      "  0.625       0.99609375  0.11328125  0.11328125  0.10546875  0.1171875\n",
      "  0.1640625   0.2109375   0.23046875  0.12109375  0.140625    0.10546875\n",
      "  0.171875    0.14453125  0.265625    0.2578125   0.1171875   0.11328125\n",
      "  0.08984375  0.08984375  0.1328125   0.1875      0.20703125  0.078125\n",
      "  0.07421875  0.078125    0.10546875  0.0859375   0.1796875   0.18359375\n",
      "  0.07421875  0.0703125   0.078125    0.07421875  0.08984375  0.1484375\n",
      "  0.19140625  0.07421875  0.078125    0.09375     0.078125    0.09765625\n",
      "  0.15625     0.13671875  0.15234375  0.12109375  0.2734375   0.16015625\n",
      "  0.1875      0.69140625  0.703125    0.1796875   0.16796875  0.171875\n",
      "  0.17578125  0.19921875  0.2578125   0.28515625  0.15234375  0.57421875\n",
      "  0.1171875   0.1171875   0.16796875  0.19140625  0.203125    0.09765625\n",
      "  0.09375     0.09375     0.1015625   0.1171875   0.16796875  0.20703125\n",
      "  0.203125    0.20703125  0.1953125   0.16796875  0.23046875  0.3359375\n",
      "  0.27734375  0.1484375   0.6953125   0.15625     0.16796875  0.234375\n",
      "  0.35546875  0.37890625  0.99609375  0.99609375  0.16796875  0.99609375\n",
      "  0.99609375  0.99609375  0.99609375  0.16015625  0.171875    0.1484375\n",
      "  0.1484375   0.1796875   0.23828125  0.265625    0.1015625   0.125\n",
      "  0.1171875   0.125       0.1328125   0.2421875   0.234375    0.28125\n",
      "  0.24609375  0.25        0.24609375  0.35546875  0.30859375  0.25390625\n",
      "  0.12109375  0.1015625   0.08984375  0.12109375  0.125       0.30078125\n",
      "  0.2890625   0.08203125  0.1015625   0.07421875  0.0703125   0.09765625\n",
      "  0.08203125  0.09765625  0.13671875  0.140625    0.125       0.12890625\n",
      "  0.15234375  0.19921875  0.21875     0.1484375   0.15625     0.109375\n",
      "  0.11328125  0.15625     0.296875    0.31640625  0.11328125  0.09765625\n",
      "  0.109375    0.1171875   0.16796875  0.140625    0.21484375  0.08984375\n",
      "  0.10546875  0.109375    0.07421875  0.109375    0.1328125   0.1640625\n",
      "  0.109375    0.10546875  0.125       0.15625     0.1640625   0.3671875\n",
      "  0.359375    0.1640625   0.13671875  0.1171875   0.99609375  0.2265625\n",
      "  0.5         0.6640625   0.24609375  0.74609375  0.14453125  0.83984375\n",
      "  0.35546875  0.39453125  0.46484375  0.1328125   0.15625     0.11328125\n",
      "  0.1328125   0.15234375  0.3125      0.40234375  0.99609375  0.99609375\n",
      "  0.99609375  0.99609375  0.99609375  0.99609375  0.99609375  0.0859375\n",
      "  0.0859375   0.0859375   0.08984375  0.1015625   0.16796875  0.18359375\n",
      "  0.21484375  0.19921875  0.19921875  0.23828125  0.2421875   0.3359375\n",
      "  0.3671875   0.8125      0.3671875   0.28515625  0.71875     0.328125\n",
      "  0.4296875   0.484375    0.16015625  0.19140625  0.1484375   0.16015625\n",
      "  0.19140625  0.53125     0.453125    0.09375     0.1171875   0.1171875\n",
      "  0.1171875   0.12890625  0.16015625  0.171875    0.42578125  0.65234375\n",
      "  0.41796875  0.99609375  0.73828125  0.6484375   0.69140625  0.09765625\n",
      "  0.09375     0.0859375   0.12890625  0.140625    0.15625     0.18359375\n",
      "  0.08984375  0.08984375  0.10546875  0.0859375   0.1015625   0.125\n",
      "  0.140625    0.56640625  0.99609375  0.1015625   0.9921875   0.140625\n",
      "  0.26953125  0.2734375   0.11328125  0.109375    0.10546875  0.1171875\n",
      "  0.12890625  0.171875    0.1953125   0.12109375  0.11328125  0.1171875\n",
      "  0.1171875   0.14453125  0.21875     0.2265625   0.14453125  0.1015625\n",
      "  0.10546875  0.09765625  0.1171875   0.17578125  0.1953125   0.109375\n",
      "  0.109375    0.109375    0.11328125  0.140625    0.2578125   0.25390625\n",
      "  0.16796875  0.29296875  0.19921875  0.17578125  0.23046875  0.28515625\n",
      "  0.30078125  0.1328125   0.1328125   0.171875    0.12109375  0.1328125\n",
      "  0.296875    0.28125     0.08203125  0.0859375   0.0859375   0.08203125\n",
      "  0.11328125  0.1328125   0.13671875  0.1953125   0.25        0.18359375\n",
      "  0.234375    0.234375    0.296875    0.3515625   0.109375    0.11328125\n",
      "  0.10546875  0.109375    0.1484375   0.16796875  0.1796875   0.1015625\n",
      "  0.1171875   0.1015625   0.12109375  0.1640625   0.2734375   0.28125\n",
      "  0.15625     0.25        0.11328125  0.1796875   0.171875    0.2109375\n",
      "  0.25390625  0.17578125  0.19140625  0.18359375  0.18359375  0.1875\n",
      "  0.296875    0.375       0.09765625  0.11328125  0.1015625   0.15234375\n",
      "  0.1328125   0.140625    0.21484375  0.12109375  0.1015625   0.12109375\n",
      "  0.1796875   0.140625    0.2734375   0.30859375  0.2109375   0.2265625\n",
      "  0.1796875   0.24609375  0.29296875  0.29296875  0.33984375  0.12109375\n",
      "  0.1484375   0.1171875   0.140625    0.140625    0.265625    0.28515625\n",
      "  0.35546875  0.22265625  0.21484375  0.3125      0.328125    0.375\n",
      "  0.3984375   0.12109375  0.125       0.12890625  0.171875    0.15234375\n",
      "  0.2265625   0.25        0.7890625   0.99609375  0.90625     0.58203125\n",
      "  0.8828125   0.9921875   0.96875     0.24609375  0.2421875   0.2421875\n",
      "  0.25        0.3125      0.36328125  0.39453125  0.09765625  0.09375\n",
      "  0.09765625  0.12109375  0.125       0.1640625   0.18359375  0.08203125\n",
      "  0.0703125   0.0703125   0.09375     0.08203125  0.12109375  0.1484375\n",
      "  0.375       0.54296875  0.3515625   0.26171875  0.640625    0.62890625\n",
      "  0.73828125  0.09375     0.0859375   0.08203125  0.0859375   0.09375\n",
      "  0.31640625  0.25390625  0.09765625  0.09375     0.109375    0.125\n",
      "  0.12109375  0.25390625  0.26171875  0.99609375  0.99609375  0.1640625\n",
      "  0.99609375  0.14453125  0.19921875  0.18359375]\n"
     ]
    },
    {
     "ename": "ValueError",
     "evalue": "resize only works on single-segment arrays",
     "output_type": "error",
     "traceback": [
      "\u001b[0;31m---------------------------------------------------------------------------\u001b[0m",
      "\u001b[0;31mValueError\u001b[0m                                Traceback (most recent call last)",
      "\u001b[0;32m<ipython-input-363-6d36a8ff2862>\u001b[0m in \u001b[0;36m<module>\u001b[0;34m()\u001b[0m\n\u001b[1;32m      4\u001b[0m     \u001b[0;32mprint\u001b[0m \u001b[0mccc2\u001b[0m\u001b[0;34m\u001b[0m\u001b[0m\n\u001b[1;32m      5\u001b[0m     \u001b[0mgrid2\u001b[0m \u001b[0;34m=\u001b[0m \u001b[0;34m[\u001b[0m\u001b[0;34m[\u001b[0m\u001b[0;36m0\u001b[0m\u001b[0;34m]\u001b[0m\u001b[0;34m*\u001b[0m\u001b[0;36m57\u001b[0m\u001b[0;34m]\u001b[0m\u001b[0;34m*\u001b[0m\u001b[0;36m47\u001b[0m\u001b[0;34m\u001b[0m\u001b[0m\n\u001b[0;32m----> 6\u001b[0;31m     \u001b[0mccc2\u001b[0m\u001b[0;34m.\u001b[0m\u001b[0mresize\u001b[0m\u001b[0;34m(\u001b[0m\u001b[0;34m(\u001b[0m\u001b[0;36m47\u001b[0m\u001b[0;34m,\u001b[0m\u001b[0;36m57\u001b[0m\u001b[0;34m)\u001b[0m\u001b[0;34m)\u001b[0m\u001b[0;34m\u001b[0m\u001b[0m\n\u001b[0m\u001b[1;32m      7\u001b[0m     \u001b[0mgrid2\u001b[0m \u001b[0;34m=\u001b[0m \u001b[0mccc2\u001b[0m\u001b[0;34m.\u001b[0m\u001b[0mT\u001b[0m\u001b[0;34m\u001b[0m\u001b[0m\n\u001b[1;32m      8\u001b[0m     \u001b[0mg22\u001b[0m \u001b[0;34m=\u001b[0m \u001b[0;34m[\u001b[0m\u001b[0;34m[\u001b[0m\u001b[0;36m0\u001b[0m\u001b[0;34m]\u001b[0m\u001b[0;34m*\u001b[0m\u001b[0;36m2679\u001b[0m\u001b[0;34m]\u001b[0m\u001b[0;34m*\u001b[0m\u001b[0;36m1\u001b[0m\u001b[0;34m\u001b[0m\u001b[0m\n",
      "\u001b[0;31mValueError\u001b[0m: resize only works on single-segment arrays"
     ]
    }
   ],
   "source": [
    "face = np.empty((1400, 57 * 47))\n",
    "for i in range(700):\n",
    "    ccc2 = dat2[:][i]\n",
    "    print ccc2\n",
    "    grid2 = [[0]*57]*47\n",
    "    ccc2.resize((47,57))\n",
    "    grid2 = ccc2.T\n",
    "    g22 = [[0]*2679]*1\n",
    "    matrix_a2 = np.array(g2)\n",
    "    matrix_a2 = matrix_a.astype('float32')\n",
    "    gg=0\n",
    "    for j2 in range(57):\n",
    "        for k2 in range(47):\n",
    "            matrix_a[0][gg]=grid[j2][k2]\n",
    "            gg=gg+1\n",
    "    face[i*2+1][:]= matrix_a"
   ]
  },
  {
   "cell_type": "code",
   "execution_count": 359,
   "metadata": {},
   "outputs": [
    {
     "data": {
      "text/plain": [
       "(700,)"
      ]
     },
     "execution_count": 359,
     "metadata": {},
     "output_type": "execute_result"
    }
   ],
   "source": [
    "ccc2 = dat2[:][1]\n",
    "ccc2.shape"
   ]
  },
  {
   "cell_type": "code",
   "execution_count": null,
   "metadata": {},
   "outputs": [],
   "source": []
  }
 ],
 "metadata": {
  "kernelspec": {
   "display_name": "Python 2",
   "language": "python",
   "name": "python2"
  },
  "language_info": {
   "codemirror_mode": {
    "name": "ipython",
    "version": 2
   },
   "file_extension": ".py",
   "mimetype": "text/x-python",
   "name": "python",
   "nbconvert_exporter": "python",
   "pygments_lexer": "ipython2",
   "version": "2.7.14"
  }
 },
 "nbformat": 4,
 "nbformat_minor": 2
}
